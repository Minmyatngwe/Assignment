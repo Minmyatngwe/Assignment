{
 "cells": [
  {
   "cell_type": "markdown",
   "id": "21d80f27",
   "metadata": {},
   "source": [
    "\n",
    "# name-Min Myat Ngwe\n",
    "## Date-8/30/2023\n",
    "\n",
    "1.Define two variables and assign them values of 100 and 29. After this, make the interpreter sum up the two numbers and multiply their result by 3. Calculate the 2ndexponent of the previous numberand save it to a new variable.Make the program print the result in the following way:The resultof the calculation was:149769Make sure you use valid variable names and name your variables meaningfully.Make sure that output of yourprogram has indentation as shown in the above example."
   ]
  },
  {
   "cell_type": "code",
   "execution_count": 29,
   "id": "4218fb56",
   "metadata": {},
   "outputs": [
    {
     "name": "stdout",
     "output_type": "stream",
     "text": [
      "149769\n"
     ]
    }
   ],
   "source": [
    "first_no=100\n",
    "second_no=29\n",
    "# sum and mutiply the two number\n",
    "get_first_result=(first_no+second_no)*3\n",
    "exponent=get_first_result**2\n",
    "print(exponent)"
   ]
  },
  {
   "cell_type": "markdown",
   "id": "1bd27ef4",
   "metadata": {},
   "source": [
    "2.Writea program thatcreatesa password by asking the user to input their name, age, year of birth. Save all in separate variables using the right type for each of them. Program shouldcreate the password in following way: takes last twodigits of year of birth, first 3 letters from name, and the 2ndpower of the age according to the example below:Name: JohnYear of birt: 1995Age: 26Password: 95Joh676Hint: to get the desired output in print() all variableshas to be type str."
   ]
  },
  {
   "cell_type": "code",
   "execution_count": 1,
   "id": "325adc94",
   "metadata": {},
   "outputs": [
    {
     "name": "stdout",
     "output_type": "stream",
     "text": [
      "name:john\n",
      "Age:26\n",
      "brith:1995\n",
      "password:95joh676\n"
     ]
    }
   ],
   "source": [
    "# asking personal information in order to make passowrd\n",
    "name=input(\"what is your name?\")\n",
    "age=int(input(\"what is your age?\"))\n",
    "birth=input(\"what is your year of birth\")\n",
    "print(f\"name:{name}\")\n",
    "print(f\"Age:{age}\")\n",
    "print(f\"brith:{birth}\")\n",
    "# creating password from the information\n",
    "print(f\"password:{birth[-2:]}{name[0:3]}{age**2}\")"
   ]
  },
  {
   "cell_type": "markdown",
   "id": "b8d09589",
   "metadata": {},
   "source": [
    "3.Write a program that asks for two numbers. If both numbersare even, the program prints \"Both numbers are even.\" If only one of the numbers is even, the program prints \"One of the numbers is even.\". Finally, if neither of the numbers is even, the program prints \"Both numbers are odd\".First number: 5Second number: 6One of the numbers is eve"
   ]
  },
  {
   "cell_type": "code",
   "execution_count": 31,
   "id": "ff4a2eb2",
   "metadata": {},
   "outputs": [
    {
     "name": "stdout",
     "output_type": "stream",
     "text": [
      "Enter the first number1\n",
      "Enter second number4\n",
      "One of the numbers is even\n"
     ]
    }
   ],
   "source": [
    "first=int(input(\"Enter the first number\"))\n",
    "second=int(input(\"Enter second number\"))\n",
    "#checking the numbers are even or odd\n",
    "if first%2 ==0 and second%2 ==0:\n",
    "    print(\"Both numbers are even\")\n",
    "elif first%2==0 and second%2!=0:\n",
    "    print(\"One of the numbers is even\")\n",
    "elif first%2!=0 and second%2==0:\n",
    "    print(\"One of the numbers is even\")\n",
    "elif first%2!=0 and second%2 !=0:\n",
    "    print(\"Both numbers are odd\")"
   ]
  },
  {
   "cell_type": "markdown",
   "id": "99cc8e92",
   "metadata": {},
   "source": [
    "4.Create a program, which asks the user for a number, and calculates the sum of all positive numbers from 0 to the usergiven input.If the user gives the number 4, the program calculates the sum 0+1+2+3, if 7, the calculation is 0+1+2+3+4+5+6. Program operates as bellow:Give an integer: 5The sum was: 10"
   ]
  },
  {
   "cell_type": "code",
   "execution_count": 32,
   "id": "2175855e",
   "metadata": {},
   "outputs": [
    {
     "name": "stdout",
     "output_type": "stream",
     "text": [
      "what is n5\n",
      "10\n"
     ]
    }
   ],
   "source": [
    "number=int(input(\"what is n\"))\n",
    "get_result=0\n",
    "for i in range(0,number):\n",
    "    #adding each number to get_reesult\n",
    "    get_result +=i\n",
    "print(get_result)"
   ]
  },
  {
   "cell_type": "markdown",
   "id": "cbf9743f",
   "metadata": {},
   "source": [
    "5.Create a program that can be used as a guessing game. The game is played by Dealerand Player. Dealergenerates a randominteger number between 0 and 10. Player has to guess it. The program should take input from Player as long as Player inputs same numberas Dealer’s input was. Player getsadviceto choose greater or smaller numbers in next choice.Finally,program has to also displaythe number of tries until the number is guessed.Program operates as follow:Player: 2Try a greater number.Player: 7Try a smaller number.Player: 5That’s right! Number of tries: 3 Hint: import random and generate random numbers by using random.randint() in the desired range"
   ]
  },
  {
   "cell_type": "code",
   "execution_count": 1,
   "id": "6f774a7b",
   "metadata": {},
   "outputs": [],
   "source": [
    "import random\n",
    "get_guess=random.randint(0,10)\n",
    "\n",
    "tries=0\n",
    "# this will be continuing unti user get the right answer\n",
    "while True:\n",
    "    guess=int(input(\"Player:\"))\n",
    "    tries+=1\n",
    "    if guess==get_guess:\n",
    "        print(f\"That's right! Number of tries:{tries}\")\n",
    "        \n",
    "        break\n",
    "    elif guess<get_guess:\n",
    "        print(\"Try a greater number\")\n",
    "        continue\n",
    "    elif guess>get_guess:\n",
    "        print(\"Try a smaller number\")\n",
    "        continue\n"
   ]
  },
  {
   "cell_type": "markdown",
   "id": "811c4fb5",
   "metadata": {},
   "source": [
    "As a bonus ( 2 point s ) you can extend your program to allow secon d play where another player can play and finally also display f i Player 1 or Player2 wins, by comparing the numbers of tries and choosing the one with smaller number . Player 1 : 2 Try a greater number. Player 1 : 7 Try a smaller number. Player 1 : 5 That’s right! Number of tries: 3 Player2: 2 Try a greater number. Player2: 7 Try a smaller number. Player2: 6 Try a smaller number. Player2: 5 That’s right! Number of tries: 4 Winer is Player 1"
   ]
  },
  {
   "cell_type": "code",
   "execution_count": null,
   "id": "9c3550e2",
   "metadata": {},
   "outputs": [
    {
     "name": "stdout",
     "output_type": "stream",
     "text": [
      "Player1:2\n",
      "Try a greater number\n",
      "Player1:5\n",
      "Try a greater number\n",
      "Player1:7\n",
      "Try a smaller number\n",
      "Player1:6\n",
      "That's right! Number of tries:4\n",
      "Player2:4\n",
      "Try a greater number\n",
      "Player2:7\n",
      "Try a smaller number\n",
      "Player2:6\n",
      "That's right! Number of tries:3\n",
      "winner is player 2\n"
     ]
    }
   ],
   "source": [
    "import random\n",
    "get_guess=random.randint(0,10)\n",
    "\n",
    "tries=[0,0]\n",
    "while True:\n",
    "    guess=int(input(\"Player1:\"))\n",
    "    tries[0]+=1\n",
    "    if guess==get_guess:\n",
    "        print(f\"That's right! Number of tries:{tries[0]}\")\n",
    "\n",
    "        \n",
    "        break\n",
    "    elif guess<get_guess:\n",
    "        print(\"Try a greater number\")\n",
    "        continue\n",
    "    elif guess>get_guess:\n",
    "        print(\"Try a smaller number\")\n",
    "        continue\n",
    "\n",
    "while True:\n",
    "    guess=int(input(\"Player2:\"))\n",
    "    tries[1]+=1\n",
    "    if guess==get_guess:\n",
    "        print(f\"That's right! Number of tries:{tries[1]}\")\n",
    "\n",
    "        \n",
    "        break\n",
    "    elif guess<get_guess:\n",
    "        print(\"Try a greater number\")\n",
    "        continue\n",
    "    elif guess>get_guess:\n",
    "        print(\"Try a smaller number\")\n",
    "        continue\n",
    "# checking who is the winner \n",
    "if tries[0]<tries[1]:\n",
    "    print(\"winner is player 1\")\n",
    "elif tries[0]>tries[1]:\n",
    "    print(\"winner is player 2\")\n",
    "elif tries[0]==tries[1]:\n",
    "    print(\"Draw\")\n",
    "    "
   ]
  },
  {
   "cell_type": "markdown",
   "id": "b2f2a7d5",
   "metadata": {},
   "source": [
    "# "
   ]
  },
  {
   "cell_type": "code",
   "execution_count": null,
   "id": "b7ed80f8",
   "metadata": {},
   "outputs": [],
   "source": []
  }
 ],
 "metadata": {
  "kernelspec": {
   "display_name": "Python 3 (ipykernel)",
   "language": "python",
   "name": "python3"
  },
  "language_info": {
   "codemirror_mode": {
    "name": "ipython",
    "version": 3
   },
   "file_extension": ".py",
   "mimetype": "text/x-python",
   "name": "python",
   "nbconvert_exporter": "python",
   "pygments_lexer": "ipython3",
   "version": "3.11.4"
  }
 },
 "nbformat": 4,
 "nbformat_minor": 5
}
